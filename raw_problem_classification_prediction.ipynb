{
  "nbformat": 4,
  "nbformat_minor": 5,
  "metadata": {
    "colab": {
      "name": "raw_problem_classification_prediction.ipynb",
      "provenance": [],
      "collapsed_sections": [],
      "include_colab_link": true
    },
    "kernelspec": {
      "display_name": "Python 3",
      "language": "python",
      "name": "python3"
    },
    "language_info": {
      "codemirror_mode": {
        "name": "ipython",
        "version": 3
      },
      "file_extension": ".py",
      "mimetype": "text/x-python",
      "name": "python",
      "nbconvert_exporter": "python",
      "pygments_lexer": "ipython3",
      "version": "3.6.9"
    },
    "toc-autonumbering": false
  },
  "cells": [
    {
      "cell_type": "markdown",
      "metadata": {
        "id": "view-in-github",
        "colab_type": "text"
      },
      "source": [
        "<a href=\"https://colab.research.google.com/github/sw6820/wanted_raw/blob/main/raw_problem_classification_prediction.ipynb\" target=\"_parent\"><img src=\"https://colab.research.google.com/assets/colab-badge.svg\" alt=\"Open In Colab\"/></a>"
      ]
    },
    {
      "cell_type": "markdown",
      "metadata": {
        "id": "639f920d-6bd0-46ec-bbe9-61a0e3361543"
      },
      "source": [
        "# 1. 문제 설명\n",
        "\n",
        "## 1.1. 문제\n",
        "- 제공되는 데이터셋에는 콜 정보와 콜 발생 시점의 수치값,그리고 상태값(컬럼명: status)이 존재합니다. \n",
        "- 목표는 주어진 콜 정보(출-도착지, 운행거리, 요금)와 콜 발생 시점의 수치값 및 시간 정보를 활용하여, 콜 배정 상태(status)를 예측하는 것 입니다.\n",
        "- 즉, 머신러닝 문제로 정의하면, 여러 label을 구분하는 multi-label classification 문제 입니다.\n",
        "\n",
        "## 1.2. 데이터셋\n",
        "- 데이터셋은 각각 학습용(train.pkl.gz) 및 평가용(test.pkl.gz) 2개의 파일이 제공됩니다.\n",
        "- 학습 데이터셋을 활용하여 적절한 모델을 학습하고, 평가 데이터셋을 활용하여 모델의 예측 성능을 평가 합니다.\n",
        "- 학습 및 평가 데이터셋의 각 컬럼의 의미는 아래를 참고하여 주시기 바랍니다.  \n",
        "  \n",
        "     ============================================================  \n",
        "     status: 콜 배정 상태  \n",
        "     dt: 콜 발생 시점  \n",
        "     origin_code: 출발지  \n",
        "     destination_code: 도착지  \n",
        "     distance: 운행 거리  \n",
        "     fare: 요금  \n",
        "     call_count: 콜 발생 시점의 출발지 기준 콜 수  \n",
        "     dispatch_count: 콜 발생 시점의 출발지 기준 배정 성공한 콜 수  \n",
        "     driver_count: 콜 발생 시점의 출발지 기준 기사 수\n",
        "\n",
        "     ============================================================  \n",
        "\n",
        "\n",
        "- 학습 데이터셋은 2021-05-01 ~ 2021-05-26 26일 치의 데이터이고, 평가 데이터셋은 그 이후인 2021-05-27 ~ 2021-05-31 5일 치의 데이터입니다.\n",
        "  \n",
        "\n",
        "## 1.3. 요구사항\n",
        "\n",
        "*아래 요구 사항 및 답안에 제시된 형식은 가이드 라인 입니다. 지원자가 원하는 형식으로 변경하여 제출할 수 있습니다.*\n",
        "   \n",
        "\n",
        "### 1.3.1. 데이터 로드\n",
        "\n",
        "주어진 데이터를 사용할 수 있는 형태로 로드 해주세요.\n",
        "  \n",
        "\n",
        "### 1.3.2. 데이터 전처리\n",
        "\n",
        "모델 학습에 필요한 형태로 데이터를 전처리 해주세요.\n",
        "  \n",
        "\n",
        "### 1.3.3. 피쳐 인코딩\n",
        "\n",
        "각 데이터의 타입에 따라 적절한 인코딩을 해주세요.\n",
        "  \n",
        "\n",
        "### 1.3.4. 모델링\n",
        "\n",
        "주어진 문제 및 데이터셋에 적절한 두 가지 모델을 구현하고 학습해주세요.\n",
        "  \n",
        "  \n",
        "### 1.3.5. 평가\n",
        "평가 데이터셋을 통해 분류에 적절한 평가 지표로 성능을 출력해주세요.\n",
        "설계한 두 모델의 성능을 각각 비교, 평가하고 두 모델 중 더 나은 성능을 보이는 모델을 선택해주세요."
      ],
      "id": "639f920d-6bd0-46ec-bbe9-61a0e3361543"
    },
    {
      "cell_type": "markdown",
      "metadata": {
        "id": "cbf04248-5eb3-4d11-94cc-5d17d7c7b03c"
      },
      "source": [
        "# 2. 답안"
      ],
      "id": "cbf04248-5eb3-4d11-94cc-5d17d7c7b03c"
    },
    {
      "cell_type": "markdown",
      "metadata": {
        "id": "3356502b-0040-41f4-9d8d-9407bc45d5f4"
      },
      "source": [
        "## 2.1. 데이터 로드\n",
        "- 학습 데이터셋: train_prob1.pkl.gz\n",
        "- 평가 데이터셋: test_prob1.pkl.gz"
      ],
      "id": "3356502b-0040-41f4-9d8d-9407bc45d5f4"
    },
    {
      "cell_type": "code",
      "metadata": {
        "id": "125ff3ce-4090-4835-892d-e4a4a68c54cd"
      },
      "source": [
        ""
      ],
      "id": "125ff3ce-4090-4835-892d-e4a4a68c54cd",
      "execution_count": null,
      "outputs": []
    },
    {
      "cell_type": "markdown",
      "metadata": {
        "id": "f8a73887-d72e-4d98-bee4-4f92c65d4fd7"
      },
      "source": [
        "## 2.2. 데이터 전처리"
      ],
      "id": "f8a73887-d72e-4d98-bee4-4f92c65d4fd7"
    },
    {
      "cell_type": "code",
      "metadata": {
        "id": "a45e7393-4965-414a-bdf9-03f7131c41b5"
      },
      "source": [
        ""
      ],
      "id": "a45e7393-4965-414a-bdf9-03f7131c41b5",
      "execution_count": null,
      "outputs": []
    },
    {
      "cell_type": "markdown",
      "metadata": {
        "id": "189569f4-005c-4214-ac06-e06a605c796a"
      },
      "source": [
        "## 2.3. 피쳐 인코딩"
      ],
      "id": "189569f4-005c-4214-ac06-e06a605c796a"
    },
    {
      "cell_type": "code",
      "metadata": {
        "id": "f439bbcc-8da4-42d2-8626-9f217de4a140"
      },
      "source": [
        ""
      ],
      "id": "f439bbcc-8da4-42d2-8626-9f217de4a140",
      "execution_count": null,
      "outputs": []
    },
    {
      "cell_type": "markdown",
      "metadata": {
        "id": "733b7db2-9877-45dc-965a-59e625788097"
      },
      "source": [
        "## 2.4. 모델링"
      ],
      "id": "733b7db2-9877-45dc-965a-59e625788097"
    },
    {
      "cell_type": "code",
      "metadata": {
        "id": "c00f8a88-575d-45d0-9880-9f4f589a8af7"
      },
      "source": [
        ""
      ],
      "id": "c00f8a88-575d-45d0-9880-9f4f589a8af7",
      "execution_count": null,
      "outputs": []
    },
    {
      "cell_type": "markdown",
      "metadata": {
        "id": "b2e93ce5-1475-49ab-ba22-9c53d5f40f34"
      },
      "source": [
        "## 2.5. 평가"
      ],
      "id": "b2e93ce5-1475-49ab-ba22-9c53d5f40f34"
    },
    {
      "cell_type": "code",
      "metadata": {
        "id": "a10e1991-c758-4965-b723-bb5c988c882b"
      },
      "source": [
        ""
      ],
      "id": "a10e1991-c758-4965-b723-bb5c988c882b",
      "execution_count": null,
      "outputs": []
    }
  ]
}