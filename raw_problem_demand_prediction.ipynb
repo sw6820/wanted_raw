{
  "cells": [
    {
      "cell_type": "markdown",
      "metadata": {
        "id": "view-in-github",
        "colab_type": "text"
      },
      "source": [
        "<a href=\"https://colab.research.google.com/github/sw6820/wanted_raw/blob/main/raw_problem_demand_prediction.ipynb\" target=\"_parent\"><img src=\"https://colab.research.google.com/assets/colab-badge.svg\" alt=\"Open In Colab\"/></a>"
      ]
    },
    {
      "cell_type": "markdown",
      "id": "639f920d-6bd0-46ec-bbe9-61a0e3361543",
      "metadata": {
        "id": "639f920d-6bd0-46ec-bbe9-61a0e3361543"
      },
      "source": [
        "# 1. 문제 설명\n",
        "\n",
        "## 1.1. 문제\n",
        "- 제공되는 데이터셋에는 각 인덱스(컬럼명: index) 별로 10분 단위로 해당 시점의 수치값(컬럼명: cnt)이 존재합니다.\n",
        "- 각 인덱스는 수요 예측의 대상으로서, 하나의 인덱스는 시간의 흐름에 따라 다른 수치값을 가지게 됩니다. 예시) 특정 지역 (인덱스) 단위의 택시 호출량 (수치값)\n",
        "- 목표는 각 인덱스 별로, 현재 시점 (t0)와 이전 6개 시점 (t-6 ~ t-1)의 수요량 및 시간 정보를 활용하여, 다음 6개 시점 (t+1 ~ t+6)의 수요량을 예측하는 것 입니다.\n",
        "- 즉, 머신러닝 문제로 정의하면, 미래 여러 시점의 수치를 예측하는 multi-horizon forecasting 문제 입니다.\n",
        "- 다양한 알고리즘으로 위의 문제를 해결할 수 있지만, 본 문제에서는 **딥러닝 알고리즘으로 문제를 해결해주세요. (딥러닝 내에서 알고리즘 선택은 자유롭게 가능합니다. MLP, CNN, RNN 등)**\n",
        "\n",
        "## 1.2. 데이터셋\n",
        "- 데이터셋은 각각 학습용(train.pkl.gz) 및 평가용(test.pkl.gz) 2개의 파일이 제공됩니다.\n",
        "- 학습 데이터셋을 활용하여 적절한 모델을 학습하고, 평가 데이터셋을 활용하여 모델의 예측 성능을 평가 합니다.\n",
        "- 학습 및 평가 데이터셋은 index, dt, cnt 3개의 컬럼으로 이루어져 있습니다.\n",
        "- 학습 데이터셋은 2021-05-01 ~ 2021-05-27 27일 치의 데이터이고, 평가 데이터셋은 그 이후인 2021-05-28 ~ 2021-05-31 4일 치의 데이터입니다.\n",
        "\n",
        "*해당 코딩 테스트의 문제 및 데이터는 본 면접을 제외한 외부 사용 및 유출을 금지합니다. 문제 유출이 발각될 시, 해당 지원자의 모든 전형 과정이 취소될 수 있으니 각별히 유의해주세요.*\n",
        "\n",
        "## 1.3. 요구사항\n",
        "\n",
        "**제출하신 노트북 코드만으로 실행이 가능할 수 있도록 답안을 제출해주세요. (설치가 필요한 패키지 등은 설치 커맨드 및 버젼 등을 노트북에 코드로 명시해야합니다. 지원자와 다른 환경에서, 노트북 코드를 첫번째 셀부터 순차적으로 실행시켰을 때의 상황을 가정해주세요.) 코드 정상 실행의 여부도 평가 항목에 포함됩니다.**\n",
        "\n",
        "*아래 요구 사항 및 답안에 제시된 형식은 가이드 라인 입니다. 지원자가 원하는 형식으로 변경하여 제출할 수 있습니다. 다만, 요구사항은 내용에 반드시 포함해주세요.*\n",
        "\n",
        "### 1.3.0. 사용 가능한 package\n",
        "- 데이터 처리에서 사용하시는 package는 제한이 없습니다.\n",
        "- **deep learning framework는 tensorflow keras 또는 pytorch(및 pytorch-lightning)를 사용해주세요. (다만, tensorflow keras를 더 선호합니다.)**\n",
        "- 이 문제는 딥러닝 패키지를 사용해서 다양한 문제에 대응할 수 있는 역량이 있는지를 평가하는 목적이므로, tensorflow keras 또는 pytorch(및 pytorch-lightning) 외의 패키지는 사용이 불가합니다. (pytorch-forecasting, fast-ai 등 특정 목적에 특화된 패키지 또는 명확하게 지원자의 논리를 확인하기 어려운 자동화된 패키지는 사용이 불가합니다.)\n",
        "\n",
        "### 1.3.1. 데이터 로드\n",
        "\n",
        "주어진 데이터를 사용할 수 있는 형태로 로드 해주세요.\n",
        "\n",
        "### 1.3.2. 데이터 탐색\n",
        "\n",
        "주어진 데이터에 필요한 여러가지 EDA를 수행 해주세요.\n",
        "\n",
        "### 1.3.3. 데이터 전처리\n",
        "\n",
        "모델 학습에 필요한 형태로 데이터를 전처리 해주세요.\n",
        "\n",
        "### 1.3.4. 피쳐 인코딩\n",
        "\n",
        "각 데이터의 타입에 따라 적절한 인코딩을 해주세요.\n",
        "\n",
        "### 1.3.5. 모델링\n",
        "\n",
        "주어진 문제 및 데이터셋에서 가장 좋은 성능을 낼 수 있도록 딥러닝 모델을 구현하고 학습해주세요.\n",
        "\n",
        "### 1.3.6. 평가\n",
        "평가 데이터셋을 통해 MSE(Mean Squared Error), MAE(Mean Absolute Error) 기준으로 성능을 출력해주세요."
      ]
    },
    {
      "cell_type": "markdown",
      "id": "cbf04248-5eb3-4d11-94cc-5d17d7c7b03c",
      "metadata": {
        "id": "cbf04248-5eb3-4d11-94cc-5d17d7c7b03c"
      },
      "source": [
        "# 2. 답안"
      ]
    },
    {
      "cell_type": "markdown",
      "id": "3356502b-0040-41f4-9d8d-9407bc45d5f4",
      "metadata": {
        "id": "3356502b-0040-41f4-9d8d-9407bc45d5f4"
      },
      "source": [
        "## 2.1. 데이터 로드\n",
        "- 학습 데이터셋: train.pkl.gz\n",
        "- 평가 데이터셋: test.pkl.gz"
      ]
    },
    {
      "cell_type": "code",
      "execution_count": null,
      "id": "125ff3ce-4090-4835-892d-e4a4a68c54cd",
      "metadata": {
        "id": "125ff3ce-4090-4835-892d-e4a4a68c54cd"
      },
      "outputs": [],
      "source": [
        ""
      ]
    },
    {
      "cell_type": "markdown",
      "id": "5b8b64fa-6813-4e4d-88ae-0e90ba8e8655",
      "metadata": {
        "id": "5b8b64fa-6813-4e4d-88ae-0e90ba8e8655"
      },
      "source": [
        "## 2.2. 데이터 탐색"
      ]
    },
    {
      "cell_type": "code",
      "execution_count": null,
      "id": "c853d738-25d5-4231-a2bd-a4a27b1b0c64",
      "metadata": {
        "id": "c853d738-25d5-4231-a2bd-a4a27b1b0c64"
      },
      "outputs": [],
      "source": [
        ""
      ]
    },
    {
      "cell_type": "markdown",
      "id": "f8a73887-d72e-4d98-bee4-4f92c65d4fd7",
      "metadata": {
        "id": "f8a73887-d72e-4d98-bee4-4f92c65d4fd7"
      },
      "source": [
        "## 2.3. 데이터 전처리"
      ]
    },
    {
      "cell_type": "code",
      "execution_count": null,
      "id": "a45e7393-4965-414a-bdf9-03f7131c41b5",
      "metadata": {
        "id": "a45e7393-4965-414a-bdf9-03f7131c41b5"
      },
      "outputs": [],
      "source": [
        ""
      ]
    },
    {
      "cell_type": "markdown",
      "id": "189569f4-005c-4214-ac06-e06a605c796a",
      "metadata": {
        "id": "189569f4-005c-4214-ac06-e06a605c796a"
      },
      "source": [
        "## 2.4. 피쳐 인코딩"
      ]
    },
    {
      "cell_type": "code",
      "execution_count": null,
      "id": "f439bbcc-8da4-42d2-8626-9f217de4a140",
      "metadata": {
        "id": "f439bbcc-8da4-42d2-8626-9f217de4a140"
      },
      "outputs": [],
      "source": [
        ""
      ]
    },
    {
      "cell_type": "markdown",
      "id": "733b7db2-9877-45dc-965a-59e625788097",
      "metadata": {
        "id": "733b7db2-9877-45dc-965a-59e625788097"
      },
      "source": [
        "## 2.5. 모델링"
      ]
    },
    {
      "cell_type": "code",
      "execution_count": null,
      "id": "c00f8a88-575d-45d0-9880-9f4f589a8af7",
      "metadata": {
        "id": "c00f8a88-575d-45d0-9880-9f4f589a8af7"
      },
      "outputs": [],
      "source": [
        ""
      ]
    },
    {
      "cell_type": "markdown",
      "id": "b2e93ce5-1475-49ab-ba22-9c53d5f40f34",
      "metadata": {
        "id": "b2e93ce5-1475-49ab-ba22-9c53d5f40f34"
      },
      "source": [
        "## 2.6. 평가\n",
        "\n",
        "주어진 베이스라인 모델의 성능을 뛰어넘으면서, 좋은 성능을 보이는지 평가합니다.\n",
        "- 테스트 데이터셋에 대한 베이스라인 모델의 성능: MSE 기준 약 250, MAE 기준 약 3.5"
      ]
    },
    {
      "cell_type": "code",
      "execution_count": null,
      "id": "a10e1991-c758-4965-b723-bb5c988c882b",
      "metadata": {
        "id": "a10e1991-c758-4965-b723-bb5c988c882b"
      },
      "outputs": [],
      "source": [
        ""
      ]
    },
    {
      "cell_type": "markdown",
      "id": "03f64b88-2f57-4e49-9289-b56d39eb5833",
      "metadata": {
        "id": "03f64b88-2f57-4e49-9289-b56d39eb5833"
      },
      "source": [
        "**전형 지원 및 코딩 테스트에 지원자 분의 귀한 시간을 내주셔서 정말 감사드립니다. 코딩 테스트의 결과는 최대한 빠르게 지원자께 전달드리도록 하겠습니다. 고생 많으셨습니다. 감사합니다.**"
      ]
    }
  ],
  "metadata": {
    "colab": {
      "name": "raw_problem_demand_prediction.ipynb",
      "provenance": [],
      "include_colab_link": true
    },
    "environment": {
      "name": "tf2-gpu.2-6.m81",
      "type": "gcloud",
      "uri": "gcr.io/deeplearning-platform-release/tf2-gpu.2-6:m81"
    },
    "kernelspec": {
      "display_name": "Python 3",
      "language": "python",
      "name": "python3"
    },
    "language_info": {
      "codemirror_mode": {
        "name": "ipython",
        "version": 3
      },
      "file_extension": ".py",
      "mimetype": "text/x-python",
      "name": "python",
      "nbconvert_exporter": "python",
      "pygments_lexer": "ipython3",
      "version": "3.6.9"
    },
    "toc-autonumbering": false
  },
  "nbformat": 4,
  "nbformat_minor": 5
}